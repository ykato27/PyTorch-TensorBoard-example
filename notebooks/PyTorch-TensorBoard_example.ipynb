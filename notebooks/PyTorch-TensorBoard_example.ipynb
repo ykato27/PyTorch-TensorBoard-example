{
 "cells": [
  {
   "cell_type": "markdown",
   "id": "1a598afc-d39d-4408-9e9d-b72307de82d7",
   "metadata": {},
   "source": [
    "## PyTorch の学習をTensorBoard でモデル・データと訓練を可視化"
   ]
  },
  {
   "cell_type": "markdown",
   "id": "b036d4a5-f724-45d6-8d1e-6d731f5d5243",
   "metadata": {},
   "source": [
    "1. データを読み込み、適切な変換を行う\n",
    "2. TensorBoard をセットアップする\n",
    "3. TensorBoard に書く\n",
    "4. TensorBoard を使用してモデル・アーキテクチャを調べる\n",
    "5. 少ないコードで、最後のチュートリアルで作成した可視化の対話的バージョンを作成するために TensorBoard を使用します。"
   ]
  },
  {
   "cell_type": "markdown",
   "id": "4370fcd9-4985-4a59-94e4-fbcfc56befec",
   "metadata": {},
   "source": [
    "特に、ポイント #5 で、以下を見ます :\n",
    "- 訓練データを調べるための 2, 3 の方法\n",
    "- モデルのそれが訓練されるときのパフォーマンスをどのように追跡するか\n",
    "- モデルのパフォーマンスをそれがひとたび訓練されればどのように評価するか。"
   ]
  },
  {
   "cell_type": "code",
   "execution_count": 1,
   "id": "0e27db4d-df48-432f-936b-b7e95ae0e3e1",
   "metadata": {},
   "outputs": [],
   "source": [
    "%load_ext lab_black"
   ]
  },
  {
   "cell_type": "code",
   "execution_count": 2,
   "id": "9a232600-aced-4637-8239-814109686eb9",
   "metadata": {},
   "outputs": [],
   "source": [
    "# imports\n",
    "import matplotlib.pyplot as plt\n",
    "import numpy as np\n",
    "\n",
    "import torch\n",
    "import torchvision\n",
    "import torchvision.transforms as transforms\n",
    "\n",
    "import torch.nn as nn\n",
    "import torch.nn.functional as F\n",
    "import torch.optim as optim"
   ]
  },
  {
   "cell_type": "code",
   "execution_count": 3,
   "id": "e1d824ba-33d6-4d00-94fe-78051b95ecb7",
   "metadata": {},
   "outputs": [
    {
     "name": "stdout",
     "output_type": "stream",
     "text": [
      "Downloading http://fashion-mnist.s3-website.eu-central-1.amazonaws.com/train-images-idx3-ubyte.gz\n",
      "Downloading http://fashion-mnist.s3-website.eu-central-1.amazonaws.com/train-images-idx3-ubyte.gz to ./data/FashionMNIST/raw/train-images-idx3-ubyte.gz\n"
     ]
    },
    {
     "name": "stderr",
     "output_type": "stream",
     "text": [
      "100.0%\n"
     ]
    },
    {
     "name": "stdout",
     "output_type": "stream",
     "text": [
      "Extracting ./data/FashionMNIST/raw/train-images-idx3-ubyte.gz to ./data/FashionMNIST/raw\n",
      "\n",
      "Downloading http://fashion-mnist.s3-website.eu-central-1.amazonaws.com/train-labels-idx1-ubyte.gz\n",
      "Downloading http://fashion-mnist.s3-website.eu-central-1.amazonaws.com/train-labels-idx1-ubyte.gz to ./data/FashionMNIST/raw/train-labels-idx1-ubyte.gz\n"
     ]
    },
    {
     "name": "stderr",
     "output_type": "stream",
     "text": [
      "100.6%\n"
     ]
    },
    {
     "name": "stdout",
     "output_type": "stream",
     "text": [
      "Extracting ./data/FashionMNIST/raw/train-labels-idx1-ubyte.gz to ./data/FashionMNIST/raw\n",
      "\n",
      "Downloading http://fashion-mnist.s3-website.eu-central-1.amazonaws.com/t10k-images-idx3-ubyte.gz\n",
      "Downloading http://fashion-mnist.s3-website.eu-central-1.amazonaws.com/t10k-images-idx3-ubyte.gz to ./data/FashionMNIST/raw/t10k-images-idx3-ubyte.gz\n"
     ]
    },
    {
     "name": "stderr",
     "output_type": "stream",
     "text": [
      "81.6%"
     ]
    },
    {
     "name": "stdout",
     "output_type": "stream",
     "text": [
      "Downloading http://fashion-mnist.s3-website.eu-central-1.amazonaws.com/t10k-labels-idx1-ubyte.gz to ./data/FashionMNIST/raw/t10k-labels-idx1-ubyte.gz\n"
     ]
    },
    {
     "name": "stderr",
     "output_type": "stream",
     "text": [
      "119.3%\n"
     ]
    },
    {
     "name": "stdout",
     "output_type": "stream",
     "text": [
      "Extracting ./data/FashionMNIST/raw/t10k-labels-idx1-ubyte.gz to ./data/FashionMNIST/raw\n",
      "\n"
     ]
    }
   ],
   "source": [
    "# transforms\n",
    "transform = transforms.Compose(\n",
    "    [transforms.ToTensor(), transforms.Normalize((0.5,), (0.5,))]\n",
    ")\n",
    "\n",
    "# datasets\n",
    "trainset = torchvision.datasets.FashionMNIST(\n",
    "    \"./data\", download=True, train=True, transform=transform\n",
    ")\n",
    "testset = torchvision.datasets.FashionMNIST(\n",
    "    \"./data\", download=True, train=False, transform=transform\n",
    ")\n",
    "\n",
    "# dataloaders\n",
    "trainloader = torch.utils.data.DataLoader(\n",
    "    trainset, batch_size=4, shuffle=True, num_workers=2\n",
    ")\n",
    "\n",
    "\n",
    "testloader = torch.utils.data.DataLoader(\n",
    "    testset, batch_size=4, shuffle=False, num_workers=2\n",
    ")\n",
    "\n",
    "# constant for classes\n",
    "classes = (\n",
    "    \"T-shirt/top\",\n",
    "    \"Trouser\",\n",
    "    \"Pullover\",\n",
    "    \"Dress\",\n",
    "    \"Coat\",\n",
    "    \"Sandal\",\n",
    "    \"Shirt\",\n",
    "    \"Sneaker\",\n",
    "    \"Bag\",\n",
    "    \"Ankle Boot\",\n",
    ")\n",
    "\n",
    "# helper function to show an image\n",
    "# (used in the `plot_classes_preds` function below)\n",
    "def matplotlib_imshow(img, one_channel=False):\n",
    "    if one_channel:\n",
    "        img = img.mean(dim=0)\n",
    "    img = img / 2 + 0.5  # unnormalize\n",
    "    npimg = img.numpy()\n",
    "    if one_channel:\n",
    "        plt.imshow(npimg, cmap=\"Greys\")\n",
    "    else:\n",
    "        plt.imshow(np.transpose(npimg, (1, 2, 0)))"
   ]
  },
  {
   "cell_type": "markdown",
   "id": "f14417a7-93bd-4453-8d45-96e9df83da34",
   "metadata": {},
   "source": [
    "#### モデル・アーキテクチャを定義"
   ]
  },
  {
   "cell_type": "code",
   "execution_count": 4,
   "id": "0bc0cf69-dffe-4272-8065-0f6489f928b2",
   "metadata": {},
   "outputs": [],
   "source": [
    "class Net(nn.Module):\n",
    "    def __init__(self):\n",
    "        super(Net, self).__init__()\n",
    "        self.conv1 = nn.Conv2d(1, 6, 5)\n",
    "        self.pool = nn.MaxPool2d(2, 2)\n",
    "        self.conv2 = nn.Conv2d(6, 16, 5)\n",
    "        self.fc1 = nn.Linear(16 * 4 * 4, 120)\n",
    "        self.fc2 = nn.Linear(120, 84)\n",
    "        self.fc3 = nn.Linear(84, 10)\n",
    "\n",
    "    def forward(self, x):\n",
    "        x = self.pool(F.relu(self.conv1(x)))\n",
    "        x = self.pool(F.relu(self.conv2(x)))\n",
    "        x = x.view(-1, 16 * 4 * 4)\n",
    "        x = F.relu(self.fc1(x))\n",
    "        x = F.relu(self.fc2(x))\n",
    "        x = self.fc3(x)\n",
    "        return x\n",
    "\n",
    "\n",
    "net = Net()"
   ]
  },
  {
   "cell_type": "markdown",
   "id": "7c1950e5-84a4-437e-a204-a0cf5f7630e0",
   "metadata": {},
   "source": [
    "#### optimizer と criterion (基準) を定義"
   ]
  },
  {
   "cell_type": "code",
   "execution_count": 5,
   "id": "930512c7-1cf0-4591-91d9-dc17f278eb31",
   "metadata": {},
   "outputs": [],
   "source": [
    "criterion = nn.CrossEntropyLoss()\n",
    "optimizer = optim.SGD(net.parameters(), lr=0.001, momentum=0.9)"
   ]
  },
  {
   "cell_type": "markdown",
   "id": "1506729e-1475-42dc-8f6e-a2525af52a6e",
   "metadata": {},
   "source": [
    "## 1. TensorBoard セットアップ"
   ]
  },
  {
   "cell_type": "code",
   "execution_count": 6,
   "id": "fd519135-6a2e-4e4f-b352-09a317a57b69",
   "metadata": {},
   "outputs": [],
   "source": [
    "from torch.utils.tensorboard import SummaryWriter\n",
    "\n",
    "# default `log_dir` is \"runs\" - we'll be more specific here\n",
    "writer = SummaryWriter(\"runs/fashion_mnist_experiment_1\")"
   ]
  },
  {
   "cell_type": "markdown",
   "id": "bef0cad7-ee53-49b1-b6dd-d855c49e03c8",
   "metadata": {},
   "source": [
    "## 2. TensorBoard に書く"
   ]
  },
  {
   "cell_type": "code",
   "execution_count": 7,
   "id": "bcdf8567-144b-4ba8-bdc7-7c5387c7b427",
   "metadata": {},
   "outputs": [
    {
     "data": {
      "image/png": "[encoded data removed]",
      "text/plain": [
       "<Figure size 432x288 with 1 Axes>"
      ]
     },
     "metadata": {
      "needs_background": "light"
     },
     "output_type": "display_data"
    }
   ],
   "source": [
    "# get some random training images\n",
    "dataiter = iter(trainloader)\n",
    "images, labels = dataiter.next()\n",
    "\n",
    "# create grid of images\n",
    "img_grid = torchvision.utils.make_grid(images)\n",
    "\n",
    "# show images\n",
    "matplotlib_imshow(img_grid, one_channel=True)\n",
    "\n",
    "# write to tensorboard\n",
    "writer.add_image(\"four_fashion_mnist_images\", img_grid)"
   ]
  },
  {
   "cell_type": "markdown",
   "id": "1a69169d-b974-4ca0-9b74-017c6d839f47",
   "metadata": {},
   "source": [
    "### TensorBoard へアクセス\n",
    "\n",
    "- dockerコンテナ内でtensorboadの起動例\n",
    "\n",
    "```\n",
    "tensorboard --logdir=\"/home/work/notebooks/runs\" --host 0.0.0.0 --port 6006\n",
    "```"
   ]
  },
  {
   "cell_type": "markdown",
   "id": "032650bf-3837-4a2f-a736-bea731efe68a",
   "metadata": {},
   "source": [
    "## 3. TensorBoard を使用してモデルを調べる\n",
    "TensorBoard の強みの一つは複雑なモデル構造を可視化する能力です。構築したモデルを可視化しましょう。"
   ]
  },
  {
   "cell_type": "code",
   "execution_count": 8,
   "id": "9e5de3a4-0abe-45ee-9f7d-1503bbe21c3c",
   "metadata": {},
   "outputs": [],
   "source": [
    "writer.add_graph(net, images)\n",
    "writer.close()"
   ]
  },
  {
   "cell_type": "markdown",
   "id": "d5448f30-e76e-4313-882a-6c59aeee6bae",
   "metadata": {},
   "source": [
    "## 4. “Projector” を TensorBoard に追加する\n",
    "add_embedding メソッドを通して高次元データの低次元表現を可視化できます。"
   ]
  },
  {
   "cell_type": "code",
   "execution_count": 9,
   "id": "118305dc-8dd8-4ce8-8102-7dd4587dabda",
   "metadata": {},
   "outputs": [],
   "source": [
    "# helper function\n",
    "def select_n_random(data, labels, n=100):\n",
    "    \"\"\"\n",
    "    Selects n random datapoints and their corresponding labels from a dataset\n",
    "    \"\"\"\n",
    "    assert len(data) == len(labels)\n",
    "\n",
    "    perm = torch.randperm(len(data))\n",
    "    return data[perm][:n], labels[perm][:n]\n",
    "\n",
    "\n",
    "# select random images and their target indices\n",
    "images, labels = select_n_random(trainset.data, trainset.targets)\n",
    "\n",
    "# get the class labels for each image\n",
    "class_labels = [classes[lab] for lab in labels]\n",
    "\n",
    "# log embeddings\n",
    "features = images.view(-1, 28 * 28)\n",
    "writer.add_embedding(features, metadata=class_labels, label_img=images.unsqueeze(1))\n",
    "writer.close()"
   ]
  },
  {
   "cell_type": "markdown",
   "id": "97f19d91-e0eb-43f3-8d90-38dd3627c2f7",
   "metadata": {},
   "source": [
    "## 5. モデル訓練を TensorBoard で追跡する\n",
    "TensorBoard にログ記録します"
   ]
  },
  {
   "cell_type": "code",
   "execution_count": 11,
   "id": "bf27ddc0-b79b-41dc-b82d-3c69397e5944",
   "metadata": {},
   "outputs": [],
   "source": [
    "# helper functions\n",
    "def images_to_probs(net, images):\n",
    "    \"\"\"\n",
    "    Generates predictions and corresponding probabilities from a trained\n",
    "    network and a list of images\n",
    "    \"\"\"\n",
    "    output = net(images)\n",
    "    # convert output probabilities to predicted class\n",
    "    _, preds_tensor = torch.max(output, 1)\n",
    "    preds = np.squeeze(preds_tensor.numpy())\n",
    "    return preds, [F.softmax(el, dim=0)[i].item() for i, el in zip(preds, output)]\n",
    "\n",
    "\n",
    "def plot_classes_preds(net, images, labels):\n",
    "    \"\"\"\n",
    "    Generates matplotlib Figure using a trained network, along with images\n",
    "    and labels from a batch, that shows the network's top prediction along\n",
    "    with its probability, alongside the actual label, coloring this\n",
    "    information based on whether the prediction was correct or not.\n",
    "    Uses the \"images_to_probs\" function.\n",
    "    \"\"\"\n",
    "    preds, probs = images_to_probs(net, images)\n",
    "    # plot the images in the batch, along with predicted and true labels\n",
    "    fig = plt.figure(figsize=(12, 48))\n",
    "    for idx in np.arange(4):\n",
    "        ax = fig.add_subplot(1, 4, idx + 1, xticks=[], yticks=[])\n",
    "        matplotlib_imshow(images[idx], one_channel=True)\n",
    "        ax.set_title(\n",
    "            \"{0}, {1:.1f}%\\n(label: {2})\".format(\n",
    "                classes[preds[idx]], probs[idx] * 100.0, classes[labels[idx]]\n",
    "            ),\n",
    "            color=(\"green\" if preds[idx] == labels[idx].item() else \"red\"),\n",
    "        )\n",
    "    return fig"
   ]
  },
  {
   "cell_type": "code",
   "execution_count": 12,
   "id": "dd245c19-4d3b-4452-9e90-307cfbfefb0c",
   "metadata": {},
   "outputs": [
    {
     "name": "stdout",
     "output_type": "stream",
     "text": [
      "Finished Training\n"
     ]
    }
   ],
   "source": [
    "running_loss = 0.0\n",
    "for epoch in range(1):  # loop over the dataset multiple times\n",
    "\n",
    "    for i, data in enumerate(trainloader, 0):\n",
    "\n",
    "        # get the inputs; data is a list of [inputs, labels]\n",
    "        inputs, labels = data\n",
    "\n",
    "        # zero the parameter gradients\n",
    "        optimizer.zero_grad()\n",
    "\n",
    "        # forward + backward + optimize\n",
    "        outputs = net(inputs)\n",
    "        loss = criterion(outputs, labels)\n",
    "        loss.backward()\n",
    "        optimizer.step()\n",
    "\n",
    "        running_loss += loss.item()\n",
    "        if i % 1000 == 999:  # every 1000 mini-batches...\n",
    "\n",
    "            # ...log the running loss\n",
    "            writer.add_scalar(\n",
    "                \"training loss\", running_loss / 1000, epoch * len(trainloader) + i\n",
    "            )\n",
    "\n",
    "            # ...log a Matplotlib Figure showing the model's predictions on a\n",
    "            # random mini-batch\n",
    "            writer.add_figure(\n",
    "                \"predictions vs. actuals\",\n",
    "                plot_classes_preds(net, inputs, labels),\n",
    "                global_step=epoch * len(trainloader) + i,\n",
    "            )\n",
    "            running_loss = 0.0\n",
    "print(\"Finished Training\")"
   ]
  },
  {
   "cell_type": "markdown",
   "id": "f9a5f2eb-7dea-4a52-a102-27b4943d39b6",
   "metadata": {},
   "source": [
    "更に、学習を通して任意のバッチ上でモデルが作成した予測を見ることができます。これを見るために “Images” タブを見て “predictions vs. actuals” 可視化の下をスクロールダウンします"
   ]
  },
  {
   "cell_type": "markdown",
   "id": "d059b853-f91e-44c1-8283-c7ea1a8a0fb5",
   "metadata": {},
   "source": [
    "## 6. 訓練モデルを TensorBoard で評価する"
   ]
  },
  {
   "cell_type": "code",
   "execution_count": 13,
   "id": "4ebd5626-d60b-43b2-a399-8d705718e05c",
   "metadata": {},
   "outputs": [],
   "source": [
    "# 1. gets the probability predictions in a test_size x num_classes Tensor\n",
    "# 2. gets the preds in a test_size Tensor\n",
    "# takes ~10 seconds to run\n",
    "class_probs = []\n",
    "class_preds = []\n",
    "with torch.no_grad():\n",
    "    for data in testloader:\n",
    "        images, labels = data\n",
    "        output = net(images)\n",
    "        class_probs_batch = [F.softmax(el, dim=0) for el in output]\n",
    "        _, class_preds_batch = torch.max(output, 1)\n",
    "\n",
    "        class_probs.append(class_probs_batch)\n",
    "        class_preds.append(class_preds_batch)\n",
    "\n",
    "test_probs = torch.cat([torch.stack(batch) for batch in class_probs])\n",
    "test_preds = torch.cat(class_preds)\n",
    "\n",
    "# helper function\n",
    "def add_pr_curve_tensorboard(class_index, test_probs, test_preds, global_step=0):\n",
    "    \"\"\"\n",
    "    Takes in a \"class_index\" from 0 to 9 and plots the corresponding\n",
    "    precision-recall curve\n",
    "    \"\"\"\n",
    "    tensorboard_preds = test_preds == class_index\n",
    "    tensorboard_probs = test_probs[:, class_index]\n",
    "\n",
    "    writer.add_pr_curve(\n",
    "        classes[class_index],\n",
    "        tensorboard_preds,\n",
    "        tensorboard_probs,\n",
    "        global_step=global_step,\n",
    "    )\n",
    "    writer.close()\n",
    "\n",
    "\n",
    "# plot all the pr curves\n",
    "for i in range(len(classes)):\n",
    "    add_pr_curve_tensorboard(i, test_probs, test_preds)"
   ]
  },
  {
   "cell_type": "code",
   "execution_count": null,
   "id": "d3054a1a-d19b-4807-b4f3-bea8d978d63d",
   "metadata": {},
   "outputs": [],
   "source": []
  }
 ],
 "metadata": {
  "kernelspec": {
   "display_name": "Python 3 (ipykernel)",
   "language": "python",
   "name": "python3"
  },
  "language_info": {
   "codemirror_mode": {
    "name": "ipython",
    "version": 3
   },
   "file_extension": ".py",
   "mimetype": "text/x-python",
   "name": "python",
   "nbconvert_exporter": "python",
   "pygments_lexer": "ipython3",
   "version": "3.9.6"
  }
 },
 "nbformat": 4,
 "nbformat_minor": 5
}
